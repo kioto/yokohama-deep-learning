{
 "cells": [
  {
   "cell_type": "code",
   "execution_count": 1,
   "metadata": {
    "collapsed": false
   },
   "outputs": [
    {
     "name": "stdout",
     "output_type": "stream",
     "text": [
      "0 0.14 0.1 0.24\n",
      "1 0.044 0.1 0.144\n",
      "2 -0.0136 0.1 0.0864\n",
      "3 -0.04816 0.1 0.05184\n",
      "4 -0.068896 0.1 0.031104\n",
      "5 -0.0813376 0.1 0.0186624\n",
      "6 -0.0888026 0.1 0.0111974\n",
      "7 -0.0932815 0.1 0.00671846\n",
      "8 -0.0959689 0.1 0.00403108\n",
      "9 -0.0975814 0.1 0.00241864\n",
      "10 -0.0985488 0.1 0.00145119\n",
      "11 -0.0991293 0.1 0.000870712\n",
      "12 -0.0994776 0.1 0.000522427\n",
      "13 -0.0996865 0.1 0.000313453\n",
      "14 -0.0998119 0.1 0.000188075\n",
      "15 -0.0998872 0.1 0.000112846\n",
      "16 -0.0999323 0.1 6.77109e-05\n",
      "17 -0.0999594 0.1 4.0628e-05\n",
      "18 -0.0999756 0.1 2.43783e-05\n",
      "19 -0.0999854 0.1 1.46255e-05\n",
      "20 -0.0999912 0.1 8.77678e-06\n",
      "21 -0.0999947 0.1 5.26756e-06\n",
      "22 -0.0999968 0.1 3.15905e-06\n",
      "23 -0.0999981 0.1 1.89245e-06\n",
      "24 -0.0999989 0.1 1.13249e-06\n",
      "25 -0.0999993 0.1 6.78003e-07\n",
      "26 -0.0999996 0.1 4.09782e-07\n",
      "27 -0.0999998 0.1 2.45869e-07\n",
      "28 -0.0999999 0.1 1.49012e-07\n",
      "29 -0.0999999 0.1 8.9407e-08\n",
      "30 -0.0999999 0.1 5.21541e-08\n",
      "31 -0.1 0.1 2.98023e-08\n",
      "32 -0.1 0.1 1.49012e-08\n",
      "33 -0.1 0.1 7.45058e-09\n"
     ]
    }
   ],
   "source": [
    "#\n",
    "# 以下のプログラムのnumpy実装\n",
    "# https://github.com/kioto/yokohama-deep-learning/blob/master/lesson/20160409_learning.ipynb\n",
    "#\n",
    "import numpy as np\n",
    "import tensorflow as tf\n",
    "\n",
    "# 学習データ\n",
    "x_data = np.array((1., 0.))\n",
    "y_data = np.array((0., 1.))\n",
    "\n",
    "# 損失関数の定義\n",
    "X = tf.placeholder('float', [None, 1])\n",
    "W = tf.Variable(tf.constant(0.3))\n",
    "b = tf.constant(0.1)\n",
    "y = W * x_data + b\n",
    "# 元のプログラムとちょっと違うので注意\n",
    "loss = tf.reduce_mean(tf.square(y - y_data))\n",
    "\n",
    "# 学習率を0.4\n",
    "optimizer = tf.train.GradientDescentOptimizer(0.4)\n",
    "\n",
    "# 登録\n",
    "train = optimizer.minimize(loss)\n",
    "init = tf.initialize_all_variables()\n",
    "sess = tf.Session()\n",
    "sess.run(init)\n",
    "\n",
    "# 学習実行（最大100回）\n",
    "log = []\n",
    "for step in range(100):\n",
    "    sess.run(train)\n",
    "    y_ = sess.run(y)[0]\n",
    "    log.append((step, y_))\n",
    "    print(step, sess.run(W), sess.run(b), y_)\n",
    "    if y_ < 1.0e-8:\n",
    "        break"
   ]
  },
  {
   "cell_type": "code",
   "execution_count": 2,
   "metadata": {
    "collapsed": false
   },
   "outputs": [
    {
     "data": {
      "image/png": "[encoded data removed]",
      "text/plain": [
       "<matplotlib.figure.Figure at 0x106c3f438>"
      ]
     },
     "metadata": {},
     "output_type": "display_data"
    }
   ],
   "source": [
    "# グラフを描画する\n",
    "%matplotlib inline\n",
    "from matplotlib import pyplot as plt\n",
    "loga = np.array(log)\n",
    "plt.scatter(loga[:, 0], loga[:, 1])  # ポイントを描画\n",
    "plt.plot(loga[:, 0], loga[:, 1])     # 線グラフを描画\n",
    "plt.show()"
   ]
  },
  {
   "cell_type": "code",
   "execution_count": null,
   "metadata": {
    "collapsed": true
   },
   "outputs": [],
   "source": []
  }
 ],
 "metadata": {
  "kernelspec": {
   "display_name": "Python 3",
   "language": "python",
   "name": "python3"
  },
  "language_info": {
   "codemirror_mode": {
    "name": "ipython",
    "version": 3
   },
   "file_extension": ".py",
   "mimetype": "text/x-python",
   "name": "python",
   "nbconvert_exporter": "python",
   "pygments_lexer": "ipython3",
   "version": "3.5.1"
  }
 },
 "nbformat": 4,
 "nbformat_minor": 0
}
