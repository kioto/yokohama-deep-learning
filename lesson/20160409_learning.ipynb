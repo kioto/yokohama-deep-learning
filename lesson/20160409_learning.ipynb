{
 "cells": [
  {
   "cell_type": "code",
   "execution_count": 16,
   "metadata": {
    "collapsed": true
   },
   "outputs": [],
   "source": [
    "# ビット反転問題\n",
    "#\n",
    "# 評価関数を |yt - y| >= 0\n",
    "#\n",
    "# Goal:\n",
    "# x0 = 1 -> y0 = 0\n",
    "# x0 = 0 -> y0 = 1\n",
    "# 現状\n",
    "# x0=xのときy0=f(w\n",
    "\n",
    "# ステップ関数を考える\n",
    "#\n",
    "# f(w00x + b) = 1 (w00x+b \n",
    "\n",
    "# 評価関数の分析\n",
    "# （間違っている時に１になる（期待値と差がある））\n",
    "#\n",
    "# x0=1 で w0,0x + b > 0の時\n",
    "# |d| = |0 - f(w0,0x + b)| = |0 - 1| = 1\n",
    "# x0=1 で w0,0x + b <= 0の時\n",
    "# |d| = |0 - f(w0,0x + b)| = |0 - 0| = 0\n",
    "# x0=0 で w0,0x + b > 0の時\n",
    "# |d| = |1 - f(w0,0x + b)| = |1 - 1| = 0\n",
    "# x0=0 で w0,0x + b <= 0の時\n",
    "# |d| = |1 - f(w0,0x + b)| = |1 - 0| = 1\n",
    "#\n",
    "# 上記の式で、絶対値を外すと差の方向（符号）も見れる\n",
    "#\n",
    "# 学習アルゴリズムの設計と実装の発表\n",
    "# 1. 与えられたデータxに対して出力y0を計算\n",
    "# 2. 正解 -y0 > 0の時 w0,0 = w0,0 + αd\n",
    "# 3. 正解 -y0 < 0の時 w0,0 = w0,0 - αd\n",
    "# 4. 1へ戻る\n",
    "#\n",
    "# グラフw0,0, x=0, x=1を示す\n",
    "# 初期値 w0,0=0.3, b=0.1\n",
    "\n",
    "class Neuron:\n",
    "    def __init__(self, X, Y, w00, b, alpha):\n",
    "        self._X = X\n",
    "        self._Y = Y\n",
    "        self._w = w00\n",
    "        self._b = b\n",
    "        self._alpha = alpha\n",
    "        \n",
    "    def learn(self, loop_num):\n",
    "        for num in range(loop_num):\n",
    "            success = 0\n",
    "            for i in range(len(X)):\n",
    "                val, res = self.eval_func(self._X[i], self._Y[i])\n",
    "                if res:\n",
    "                    success += 1\n",
    "                else:\n",
    "                    if val < 0:\n",
    "                        self._w -= self._alpha\n",
    "                    elif val > 0:\n",
    "                        self._w += self._alpha\n",
    "                    print(\"_w=\", self._w)\n",
    "            if success == len(self._X):\n",
    "                break\n",
    "        return (self._w, self._b, num+1)\n",
    "    \n",
    "    def eval_func(self, x, y):\n",
    "        y0 = self._w * x + self._b\n",
    "        return y-y0, y-y0 > 0\n"
   ]
  },
  {
   "cell_type": "code",
   "execution_count": 17,
   "metadata": {
    "collapsed": false
   },
   "outputs": [
    {
     "name": "stdout",
     "output_type": "stream",
     "text": [
      "_w= 0.29\n",
      "_w= 0.27999999999999997\n",
      "_w= 0.26999999999999996\n",
      "_w= 0.25999999999999995\n",
      "_w= 0.24999999999999994\n",
      "_w= 0.23999999999999994\n",
      "_w= 0.22999999999999993\n",
      "_w= 0.21999999999999992\n",
      "_w= 0.2099999999999999\n",
      "_w= 0.1999999999999999\n",
      "_w= 0.1899999999999999\n",
      "_w= 0.17999999999999988\n",
      "_w= 0.16999999999999987\n",
      "_w= 0.15999999999999986\n",
      "_w= 0.14999999999999986\n",
      "_w= 0.13999999999999985\n",
      "_w= 0.12999999999999984\n",
      "_w= 0.11999999999999984\n",
      "_w= 0.10999999999999985\n",
      "_w= 0.09999999999999985\n",
      "_w= 0.08999999999999986\n",
      "_w= 0.07999999999999986\n",
      "_w= 0.06999999999999987\n",
      "_w= 0.059999999999999866\n",
      "_w= 0.049999999999999864\n",
      "_w= 0.03999999999999986\n",
      "_w= 0.02999999999999986\n",
      "_w= 0.019999999999999858\n",
      "_w= 0.009999999999999858\n",
      "_w= -1.4224732503009818e-16\n",
      "_w= -0.010000000000000142\n",
      "_w= -0.020000000000000143\n",
      "_w= -0.030000000000000145\n",
      "_w= -0.04000000000000015\n",
      "_w= -0.05000000000000015\n",
      "_w= -0.06000000000000015\n",
      "_w= -0.07000000000000015\n",
      "_w= -0.08000000000000014\n",
      "_w= -0.09000000000000014\n",
      "_w= -0.10000000000000013\n",
      "-0.10000000000000013 0.1 41\n"
     ]
    }
   ],
   "source": [
    "X = [0, 1]\n",
    "Y = [1, 0]\n",
    "w00 = 0.3\n",
    "b = 0.1\n",
    "alpha = 0.01\n",
    "n = Neuron(X, Y, w00, b, alpha)\n",
    "(w_, b_, num) = n.learn(1000)\n",
    "print(w_, b_, num)"
   ]
  },
  {
   "cell_type": "code",
   "execution_count": null,
   "metadata": {
    "collapsed": true
   },
   "outputs": [],
   "source": []
  }
 ],
 "metadata": {
  "kernelspec": {
   "display_name": "Python 3",
   "language": "python",
   "name": "python3"
  },
  "language_info": {
   "codemirror_mode": {
    "name": "ipython",
    "version": 3
   },
   "file_extension": ".py",
   "mimetype": "text/x-python",
   "name": "python",
   "nbconvert_exporter": "python",
   "pygments_lexer": "ipython3",
   "version": "3.5.1"
  }
 },
 "nbformat": 4,
 "nbformat_minor": 0
}
