{
 "cells": [
  {
   "cell_type": "code",
   "execution_count": 1,
   "metadata": {
    "collapsed": false
   },
   "outputs": [],
   "source": [
    "import numpy as np\n",
    "\n",
    "class Neuron:\n",
    "    def __init__(self, w, b, f):\n",
    "        self.w = np.concatenate((w, b), axis=1)\n",
    "        self.f = f\n",
    "        \n",
    "    def output(self, x):\n",
    "        x = np.concatenate((x, [[1,],]))\n",
    "        return self.f(self.w.dot(x))\n",
    "\n",
    "def f(u):\n",
    "    # numpyの機能\n",
    "    u[u > 0] = 1    # 0より大きいものを1\n",
    "    u[u <= 0] = -1\n",
    "    return u\n"
   ]
  },
  {
   "cell_type": "code",
   "execution_count": 2,
   "metadata": {
    "collapsed": false
   },
   "outputs": [
    {
     "name": "stdout",
     "output_type": "stream",
     "text": [
      "[[0 1]\n",
      " [2 3]]\n"
     ]
    }
   ],
   "source": [
    "w = np.array([[0,1],[2,3]])\n",
    "print(w)"
   ]
  },
  {
   "cell_type": "code",
   "execution_count": 3,
   "metadata": {
    "collapsed": false
   },
   "outputs": [
    {
     "name": "stdout",
     "output_type": "stream",
     "text": [
      "[[0 2]\n",
      " [1 3]]\n"
     ]
    }
   ],
   "source": [
    "print(w.T)"
   ]
  },
  {
   "cell_type": "code",
   "execution_count": 4,
   "metadata": {
    "collapsed": false
   },
   "outputs": [
    {
     "name": "stdout",
     "output_type": "stream",
     "text": [
      "[[1 2 3]]\n",
      "[[10]]\n",
      "[[ 1  2  3 10]]\n"
     ]
    }
   ],
   "source": [
    "w = np.array([[1,2,3]])\n",
    "b = np.array([[10,],])\n",
    "n = Neuron(w, b, f)\n",
    "print(w)\n",
    "print(b)\n",
    "print(n.w)"
   ]
  },
  {
   "cell_type": "code",
   "execution_count": 5,
   "metadata": {
    "collapsed": false
   },
   "outputs": [
    {
     "name": "stdout",
     "output_type": "stream",
     "text": [
      "[[2]\n",
      " [4]\n",
      " [6]]\n"
     ]
    },
    {
     "data": {
      "text/plain": [
       "array([[1]])"
      ]
     },
     "execution_count": 5,
     "metadata": {},
     "output_type": "execute_result"
    }
   ],
   "source": [
    "x = np.array([[2],[4],[6],])\n",
    "print(x)\n",
    "n.output(x)"
   ]
  },
  {
   "cell_type": "code",
   "execution_count": 6,
   "metadata": {
    "collapsed": false
   },
   "outputs": [
    {
     "name": "stdout",
     "output_type": "stream",
     "text": [
      "[[-1.]]\n",
      "[[-1.]\n",
      " [ 1.]]\n"
     ]
    }
   ],
   "source": [
    "if __name__ == '__main__':\n",
    "    # １入力１出力\n",
    "    neuron = Neuron([[1,],], [[0.1,],], f)\n",
    "    print(neuron.output([[-0.1,],]))\n",
    "    # ２入力２出力 \n",
    "    neuron = Neuron([[0.5,0.8,],[-0.1,-0.3]],[[0.1,],[0.1],], f)\n",
    "    print(neuron.output([[-1,],[0.2,]]))\n"
   ]
  },
  {
   "cell_type": "code",
   "execution_count": 7,
   "metadata": {
    "collapsed": false
   },
   "outputs": [
    {
     "data": {
      "text/plain": [
       "array([[ 1.]])"
      ]
     },
     "execution_count": 7,
     "metadata": {},
     "output_type": "execute_result"
    }
   ],
   "source": [
    "# W = (1.0, -2.0)\n",
    "# b = 1.0\n",
    "# x = ( 0.5 \n",
    "#      -0.5 )\n",
    "\n",
    "w = np.array([[1.0, -2.0],])\n",
    "b = np.array([[1.0,],])\n",
    "n = Neuron(w, b, f)\n",
    "x = np.array([[0.5],[-0.5]])\n",
    "n.output(x)"
   ]
  },
  {
   "cell_type": "code",
   "execution_count": 8,
   "metadata": {
    "collapsed": false
   },
   "outputs": [
    {
     "name": "stdout",
     "output_type": "stream",
     "text": [
      "[[-2  1 -3  4]]\n",
      "[-1, 1, -1, 1]\n"
     ]
    }
   ],
   "source": [
    "bar = np.array([[-2, 1, -3, 4]])\n",
    "print(bar)\n",
    "foo = [-1 if v <= 0 else 1 for v in bar[0]]\n",
    "print(foo)"
   ]
  },
  {
   "cell_type": "code",
   "execution_count": null,
   "metadata": {
    "collapsed": true
   },
   "outputs": [],
   "source": []
  }
 ],
 "metadata": {
  "kernelspec": {
   "display_name": "Python 3",
   "language": "python",
   "name": "python3"
  },
  "language_info": {
   "codemirror_mode": {
    "name": "ipython",
    "version": 3
   },
   "file_extension": ".py",
   "mimetype": "text/x-python",
   "name": "python",
   "nbconvert_exporter": "python",
   "pygments_lexer": "ipython3",
   "version": "3.5.1"
  }
 },
 "nbformat": 4,
 "nbformat_minor": 0
}
