{
 "cells": [
  {
   "cell_type": "code",
   "execution_count": 12,
   "metadata": {
    "collapsed": false
   },
   "outputs": [],
   "source": [
    "# 微分をしよう\n",
    "\n",
    "def diff(f, x):\n",
    "    dx = 0.0001\n",
    "    x0 = x\n",
    "    x1 = x0 + dx\n",
    "    y0 = f(x0)\n",
    "    y1 = f(x1)\n",
    "    return (y1 - y0) / (dx)\n",
    "\n",
    "def f1(x):\n",
    "    return 2 * x\n",
    "\n",
    "def f2(x):\n",
    "    return x ** 2\n",
    "\n",
    "def f3(x):\n",
    "    return x ** 3\n",
    "\n",
    "def f4(x):\n",
    "    return x ** 2 + 10\n",
    "\n",
    "def f5(x):\n",
    "    return x ** 3 + x ** 2\n"
   ]
  },
  {
   "cell_type": "code",
   "execution_count": 53,
   "metadata": {
    "collapsed": false
   },
   "outputs": [
    {
     "data": {
      "text/plain": [
       "30"
      ]
     },
     "execution_count": 53,
     "metadata": {},
     "output_type": "execute_result"
    }
   ],
   "source": [
    "# 関数ポインタの例\n",
    "\n",
    "def add(a, b):\n",
    "    return a + b\n",
    "\n",
    "def sample(f, a, b):\n",
    "    return f(a, b)\n",
    "\n",
    "sample(add, 10, 20)"
   ]
  },
  {
   "cell_type": "code",
   "execution_count": 54,
   "metadata": {
    "collapsed": false
   },
   "outputs": [
    {
     "data": {
      "image/png": "[encoded data removed]",
      "text/plain": [
       "<matplotlib.figure.Figure at 0x103693a90>"
      ]
     },
     "metadata": {},
     "output_type": "display_data"
    }
   ],
   "source": [
    "%matplotlib inline\n",
    "import numpy as np\n",
    "from matplotlib import pyplot as plt\n",
    "\n",
    "x = np.linspace(-5.0, 5.0, 10)\n",
    "plt.plot(x, diff(f1, x), label=\"(2 * x)'\")\n",
    "plt.plot(x, diff(f2, x), label=\"(x ** 2)'\")\n",
    "plt.plot(x, diff(f3, x), label=\"(x ** 3)'\")\n",
    "plt.plot(x, diff(f4, x), label=\"(x ** 2 + 10)'\")\n",
    "plt.plot(x, diff(f5, x), label=\"(x ** 3 + x ** 2)'\")\n",
    "plt.legend()\n",
    "plt.show()"
   ]
  },
  {
   "cell_type": "code",
   "execution_count": 55,
   "metadata": {
    "collapsed": false
   },
   "outputs": [
    {
     "name": "stdout",
     "output_type": "stream",
     "text": [
      "0.004006502203152152\n"
     ]
    }
   ],
   "source": [
    "# x^2の最小値を調べる\n",
    "#\n",
    "\n",
    "def learn(f, e, x, limit):\n",
    "    '''\n",
    "    f : 関数\n",
    "    e : 学習率\n",
    "    x : 初期値\n",
    "    limit : 閾値\n",
    "    '''\n",
    "    for i in range(1000):\n",
    "        y = diff(f, x)\n",
    "        if abs(y) < limit:\n",
    "            break\n",
    "        x = x - e * y\n",
    "        \n",
    "    return x\n",
    "\n",
    "print(learn((lambda x: x ** 2), 0.1, 10, 0.01))"
   ]
  },
  {
   "cell_type": "code",
   "execution_count": null,
   "metadata": {
    "collapsed": true
   },
   "outputs": [],
   "source": []
  }
 ],
 "metadata": {
  "kernelspec": {
   "display_name": "Python 3",
   "language": "python",
   "name": "python3"
  },
  "language_info": {
   "codemirror_mode": {
    "name": "ipython",
    "version": 3
   },
   "file_extension": ".py",
   "mimetype": "text/x-python",
   "name": "python",
   "nbconvert_exporter": "python",
   "pygments_lexer": "ipython3",
   "version": "3.5.1"
  }
 },
 "nbformat": 4,
 "nbformat_minor": 0
}
